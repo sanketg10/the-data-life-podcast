{
 "cells": [
  {
   "cell_type": "markdown",
   "metadata": {},
   "source": [
    "### The Data Life Podcast - Overview of Netflix and Spotify like recommendation engines. \n",
"Welcome!\n",  
"To get started we can use MovieLens dataset that has a collection of 100k ratings applied to 9,000 movies by 600 users. This is great to get started.\n",
    "\n",
    "We can then create vector for each movie and the corresponding genre. So if a movie has genres “Adventure, Drama and Thriller” we can make a vector of 1s and 0s, 1s correspond to the genre this movie has and 0s corresponds to genres this movie does not have. \n",
    "Having created this vector, we can use cosine similarity to find movies with similar genres. So our friend Adam told us that he likes Interstellar, we will look up the genre vector for this movie and find cosine similarity of this vector with other movie genre vectors - that might give us Martian and Contact. \n",
    "\n",
    "For collaborative filtering algorithms, we will build user-product matrix where each user’s ratings for every other movie or song is in vector format. For sites like Spotify that do not use ratings, this matrix can just be 1s and 0s of streamed and unstreamed songs. \n",
    "We can then use the rows in this matrix to find similar users by using cosine similarity. Instead of movie genres we are just using user activity here. \n",
    "These kind of models are “neighbourhood based” or “memory based” collaborative filtering systems. \n",
    "\n",
    "There is one small problem to this approach. For 600 users and 10k movies, this works fine, but it does not scale for Netflix or Spotify level. They have 100s of millions of users and millions of products, how does calculating similarity between different users or items work at this scale? \n",
    "\n",
    "That is actually done via Matrix Factorization methods that basically reduce the dimensions of sparse matrices. We can rely on these methods to work much faster and scale better, the reason being that most users won’t interact with more than a few hundred items, and rest of the millions of items will not have any activity for them. These methods fall under “model based” collaborative filtering systems. SVD is a common technique which helps us find principal components of our user-movie matrix. So we build one matrix that identifies each users' preference for action movies vs romance movies vs drama movies etc. And we build another matrix that identifies each products' content in action, romance vs drama etc. And learn this automatically - not relying on humans creating these labels for us. That's what makes this so powerful."
   ]
  },
  {
   "cell_type": "code",
   "execution_count": 860,
   "metadata": {},
   "outputs": [],
   "source": [
    "import pandas as pd"
   ]
  },
  {
   "cell_type": "markdown",
   "metadata": {},
   "source": [
    "### Users > Movie Ratings"
   ]
  },
  {
   "cell_type": "code",
   "execution_count": 861,
   "metadata": {},
   "outputs": [],
   "source": [
    "df_ratings = pd.read_csv(\"ratings.csv\")"
   ]
  },
  {
   "cell_type": "code",
   "execution_count": 862,
   "metadata": {},
   "outputs": [
    {
     "data": {
      "text/plain": [
       "(100836, 4)"
      ]
     },
     "execution_count": 862,
     "metadata": {},
     "output_type": "execute_result"
    }
   ],
   "source": [
    "df_ratings.shape"
   ]
  },
  {
   "cell_type": "code",
   "execution_count": 863,
   "metadata": {},
   "outputs": [
    {
     "data": {
      "text/plain": [
       "userId       0\n",
       "movieId      0\n",
       "rating       0\n",
       "timestamp    0\n",
       "dtype: int64"
      ]
     },
     "execution_count": 863,
     "metadata": {},
     "output_type": "execute_result"
    }
   ],
   "source": [
    "df_ratings.isnull().sum()"
   ]
  },
  {
   "cell_type": "code",
   "execution_count": 864,
   "metadata": {},
   "outputs": [
    {
     "data": {
      "text/html": [
       "<div>\n",
       "<style scoped>\n",
       "    .dataframe tbody tr th:only-of-type {\n",
       "        vertical-align: middle;\n",
       "    }\n",
       "\n",
       "    .dataframe tbody tr th {\n",
       "        vertical-align: top;\n",
       "    }\n",
       "\n",
       "    .dataframe thead th {\n",
       "        text-align: right;\n",
       "    }\n",
       "</style>\n",
       "<table border=\"1\" class=\"dataframe\">\n",
       "  <thead>\n",
       "    <tr style=\"text-align: right;\">\n",
       "      <th></th>\n",
       "      <th>userId</th>\n",
       "      <th>movieId</th>\n",
       "      <th>rating</th>\n",
       "      <th>timestamp</th>\n",
       "    </tr>\n",
       "  </thead>\n",
       "  <tbody>\n",
       "    <tr>\n",
       "      <th>0</th>\n",
       "      <td>1</td>\n",
       "      <td>1</td>\n",
       "      <td>4.0</td>\n",
       "      <td>964982703</td>\n",
       "    </tr>\n",
       "    <tr>\n",
       "      <th>1</th>\n",
       "      <td>1</td>\n",
       "      <td>3</td>\n",
       "      <td>4.0</td>\n",
       "      <td>964981247</td>\n",
       "    </tr>\n",
       "    <tr>\n",
       "      <th>2</th>\n",
       "      <td>1</td>\n",
       "      <td>6</td>\n",
       "      <td>4.0</td>\n",
       "      <td>964982224</td>\n",
       "    </tr>\n",
       "    <tr>\n",
       "      <th>3</th>\n",
       "      <td>1</td>\n",
       "      <td>47</td>\n",
       "      <td>5.0</td>\n",
       "      <td>964983815</td>\n",
       "    </tr>\n",
       "    <tr>\n",
       "      <th>4</th>\n",
       "      <td>1</td>\n",
       "      <td>50</td>\n",
       "      <td>5.0</td>\n",
       "      <td>964982931</td>\n",
       "    </tr>\n",
       "  </tbody>\n",
       "</table>\n",
       "</div>"
      ],
      "text/plain": [
       "   userId  movieId  rating  timestamp\n",
       "0       1        1     4.0  964982703\n",
       "1       1        3     4.0  964981247\n",
       "2       1        6     4.0  964982224\n",
       "3       1       47     5.0  964983815\n",
       "4       1       50     5.0  964982931"
      ]
     },
     "execution_count": 864,
     "metadata": {},
     "output_type": "execute_result"
    }
   ],
   "source": [
    "df_ratings.head()"
   ]
  },
  {
   "cell_type": "markdown",
   "metadata": {},
   "source": [
    "### Personal Tags by Users"
   ]
  },
  {
   "cell_type": "code",
   "execution_count": 865,
   "metadata": {},
   "outputs": [],
   "source": [
    "df_tags = pd.read_csv(\"tags.csv\")"
   ]
  },
  {
   "cell_type": "code",
   "execution_count": 866,
   "metadata": {},
   "outputs": [
    {
     "data": {
      "text/plain": [
       "(3683, 4)"
      ]
     },
     "execution_count": 866,
     "metadata": {},
     "output_type": "execute_result"
    }
   ],
   "source": [
    "df_tags.shape"
   ]
  },
  {
   "cell_type": "code",
   "execution_count": 867,
   "metadata": {},
   "outputs": [
    {
     "data": {
      "text/plain": [
       "userId       0\n",
       "movieId      0\n",
       "tag          0\n",
       "timestamp    0\n",
       "dtype: int64"
      ]
     },
     "execution_count": 867,
     "metadata": {},
     "output_type": "execute_result"
    }
   ],
   "source": [
    "df_tags.isnull().sum()"
   ]
  },
  {
   "cell_type": "code",
   "execution_count": 868,
   "metadata": {},
   "outputs": [
    {
     "data": {
      "text/html": [
       "<div>\n",
       "<style scoped>\n",
       "    .dataframe tbody tr th:only-of-type {\n",
       "        vertical-align: middle;\n",
       "    }\n",
       "\n",
       "    .dataframe tbody tr th {\n",
       "        vertical-align: top;\n",
       "    }\n",
       "\n",
       "    .dataframe thead th {\n",
       "        text-align: right;\n",
       "    }\n",
       "</style>\n",
       "<table border=\"1\" class=\"dataframe\">\n",
       "  <thead>\n",
       "    <tr style=\"text-align: right;\">\n",
       "      <th></th>\n",
       "      <th>userId</th>\n",
       "      <th>movieId</th>\n",
       "      <th>tag</th>\n",
       "      <th>timestamp</th>\n",
       "    </tr>\n",
       "  </thead>\n",
       "  <tbody>\n",
       "    <tr>\n",
       "      <th>0</th>\n",
       "      <td>2</td>\n",
       "      <td>60756</td>\n",
       "      <td>funny</td>\n",
       "      <td>1445714994</td>\n",
       "    </tr>\n",
       "    <tr>\n",
       "      <th>1</th>\n",
       "      <td>2</td>\n",
       "      <td>60756</td>\n",
       "      <td>Highly quotable</td>\n",
       "      <td>1445714996</td>\n",
       "    </tr>\n",
       "    <tr>\n",
       "      <th>2</th>\n",
       "      <td>2</td>\n",
       "      <td>60756</td>\n",
       "      <td>will ferrell</td>\n",
       "      <td>1445714992</td>\n",
       "    </tr>\n",
       "    <tr>\n",
       "      <th>3</th>\n",
       "      <td>2</td>\n",
       "      <td>89774</td>\n",
       "      <td>Boxing story</td>\n",
       "      <td>1445715207</td>\n",
       "    </tr>\n",
       "    <tr>\n",
       "      <th>4</th>\n",
       "      <td>2</td>\n",
       "      <td>89774</td>\n",
       "      <td>MMA</td>\n",
       "      <td>1445715200</td>\n",
       "    </tr>\n",
       "  </tbody>\n",
       "</table>\n",
       "</div>"
      ],
      "text/plain": [
       "   userId  movieId              tag   timestamp\n",
       "0       2    60756            funny  1445714994\n",
       "1       2    60756  Highly quotable  1445714996\n",
       "2       2    60756     will ferrell  1445714992\n",
       "3       2    89774     Boxing story  1445715207\n",
       "4       2    89774              MMA  1445715200"
      ]
     },
     "execution_count": 868,
     "metadata": {},
     "output_type": "execute_result"
    }
   ],
   "source": [
    "df_tags.head()"
   ]
  },
  {
   "cell_type": "code",
   "execution_count": 869,
   "metadata": {},
   "outputs": [
    {
     "data": {
      "text/plain": [
       "In Netflix queue     131\n",
       "atmospheric           36\n",
       "thought-provoking     24\n",
       "superhero             24\n",
       "funny                 23\n",
       "Name: tag, dtype: int64"
      ]
     },
     "execution_count": 869,
     "metadata": {},
     "output_type": "execute_result"
    }
   ],
   "source": [
    "df_tags[\"tag\"].value_counts().head()"
   ]
  },
  {
   "cell_type": "markdown",
   "metadata": {},
   "source": [
    "### Movie Tags Official"
   ]
  },
  {
   "cell_type": "code",
   "execution_count": 870,
   "metadata": {},
   "outputs": [],
   "source": [
    "df_movies = pd.read_csv(\"movies.csv\")"
   ]
  },
  {
   "cell_type": "code",
   "execution_count": 871,
   "metadata": {},
   "outputs": [
    {
     "data": {
      "text/plain": [
       "(9742, 3)"
      ]
     },
     "execution_count": 871,
     "metadata": {},
     "output_type": "execute_result"
    }
   ],
   "source": [
    "df_movies.shape"
   ]
  },
  {
   "cell_type": "code",
   "execution_count": 872,
   "metadata": {},
   "outputs": [
    {
     "data": {
      "text/plain": [
       "movieId    0\n",
       "title      0\n",
       "genres     0\n",
       "dtype: int64"
      ]
     },
     "execution_count": 872,
     "metadata": {},
     "output_type": "execute_result"
    }
   ],
   "source": [
    "df_movies.isnull().sum()"
   ]
  },
  {
   "cell_type": "code",
   "execution_count": 873,
   "metadata": {},
   "outputs": [
    {
     "data": {
      "text/html": [
       "<div>\n",
       "<style scoped>\n",
       "    .dataframe tbody tr th:only-of-type {\n",
       "        vertical-align: middle;\n",
       "    }\n",
       "\n",
       "    .dataframe tbody tr th {\n",
       "        vertical-align: top;\n",
       "    }\n",
       "\n",
       "    .dataframe thead th {\n",
       "        text-align: right;\n",
       "    }\n",
       "</style>\n",
       "<table border=\"1\" class=\"dataframe\">\n",
       "  <thead>\n",
       "    <tr style=\"text-align: right;\">\n",
       "      <th></th>\n",
       "      <th>movieId</th>\n",
       "      <th>title</th>\n",
       "      <th>genres</th>\n",
       "    </tr>\n",
       "  </thead>\n",
       "  <tbody>\n",
       "    <tr>\n",
       "      <th>0</th>\n",
       "      <td>1</td>\n",
       "      <td>Toy Story (1995)</td>\n",
       "      <td>Adventure|Animation|Children|Comedy|Fantasy</td>\n",
       "    </tr>\n",
       "    <tr>\n",
       "      <th>1</th>\n",
       "      <td>2</td>\n",
       "      <td>Jumanji (1995)</td>\n",
       "      <td>Adventure|Children|Fantasy</td>\n",
       "    </tr>\n",
       "    <tr>\n",
       "      <th>2</th>\n",
       "      <td>3</td>\n",
       "      <td>Grumpier Old Men (1995)</td>\n",
       "      <td>Comedy|Romance</td>\n",
       "    </tr>\n",
       "    <tr>\n",
       "      <th>3</th>\n",
       "      <td>4</td>\n",
       "      <td>Waiting to Exhale (1995)</td>\n",
       "      <td>Comedy|Drama|Romance</td>\n",
       "    </tr>\n",
       "    <tr>\n",
       "      <th>4</th>\n",
       "      <td>5</td>\n",
       "      <td>Father of the Bride Part II (1995)</td>\n",
       "      <td>Comedy</td>\n",
       "    </tr>\n",
       "  </tbody>\n",
       "</table>\n",
       "</div>"
      ],
      "text/plain": [
       "   movieId                               title  \\\n",
       "0        1                    Toy Story (1995)   \n",
       "1        2                      Jumanji (1995)   \n",
       "2        3             Grumpier Old Men (1995)   \n",
       "3        4            Waiting to Exhale (1995)   \n",
       "4        5  Father of the Bride Part II (1995)   \n",
       "\n",
       "                                        genres  \n",
       "0  Adventure|Animation|Children|Comedy|Fantasy  \n",
       "1                   Adventure|Children|Fantasy  \n",
       "2                               Comedy|Romance  \n",
       "3                         Comedy|Drama|Romance  \n",
       "4                                       Comedy  "
      ]
     },
     "execution_count": 873,
     "metadata": {},
     "output_type": "execute_result"
    }
   ],
   "source": [
    "df_movies.head()"
   ]
  },
  {
   "cell_type": "markdown",
   "metadata": {},
   "source": [
    "### External Links"
   ]
  },
  {
   "cell_type": "code",
   "execution_count": 874,
   "metadata": {},
   "outputs": [],
   "source": [
    "df_links = pd.read_csv(\"links.csv\")"
   ]
  },
  {
   "cell_type": "code",
   "execution_count": 875,
   "metadata": {},
   "outputs": [
    {
     "data": {
      "text/plain": [
       "(9742, 3)"
      ]
     },
     "execution_count": 875,
     "metadata": {},
     "output_type": "execute_result"
    }
   ],
   "source": [
    "df_links.shape"
   ]
  },
  {
   "cell_type": "code",
   "execution_count": 876,
   "metadata": {},
   "outputs": [
    {
     "data": {
      "text/plain": [
       "movieId    0\n",
       "imdbId     0\n",
       "tmdbId     8\n",
       "dtype: int64"
      ]
     },
     "execution_count": 876,
     "metadata": {},
     "output_type": "execute_result"
    }
   ],
   "source": [
    "df_links.isnull().sum()"
   ]
  },
  {
   "cell_type": "code",
   "execution_count": 877,
   "metadata": {},
   "outputs": [
    {
     "data": {
      "text/html": [
       "<div>\n",
       "<style scoped>\n",
       "    .dataframe tbody tr th:only-of-type {\n",
       "        vertical-align: middle;\n",
       "    }\n",
       "\n",
       "    .dataframe tbody tr th {\n",
       "        vertical-align: top;\n",
       "    }\n",
       "\n",
       "    .dataframe thead th {\n",
       "        text-align: right;\n",
       "    }\n",
       "</style>\n",
       "<table border=\"1\" class=\"dataframe\">\n",
       "  <thead>\n",
       "    <tr style=\"text-align: right;\">\n",
       "      <th></th>\n",
       "      <th>movieId</th>\n",
       "      <th>imdbId</th>\n",
       "      <th>tmdbId</th>\n",
       "    </tr>\n",
       "  </thead>\n",
       "  <tbody>\n",
       "    <tr>\n",
       "      <th>0</th>\n",
       "      <td>1</td>\n",
       "      <td>114709</td>\n",
       "      <td>862.0</td>\n",
       "    </tr>\n",
       "    <tr>\n",
       "      <th>1</th>\n",
       "      <td>2</td>\n",
       "      <td>113497</td>\n",
       "      <td>8844.0</td>\n",
       "    </tr>\n",
       "    <tr>\n",
       "      <th>2</th>\n",
       "      <td>3</td>\n",
       "      <td>113228</td>\n",
       "      <td>15602.0</td>\n",
       "    </tr>\n",
       "    <tr>\n",
       "      <th>3</th>\n",
       "      <td>4</td>\n",
       "      <td>114885</td>\n",
       "      <td>31357.0</td>\n",
       "    </tr>\n",
       "    <tr>\n",
       "      <th>4</th>\n",
       "      <td>5</td>\n",
       "      <td>113041</td>\n",
       "      <td>11862.0</td>\n",
       "    </tr>\n",
       "  </tbody>\n",
       "</table>\n",
       "</div>"
      ],
      "text/plain": [
       "   movieId  imdbId   tmdbId\n",
       "0        1  114709    862.0\n",
       "1        2  113497   8844.0\n",
       "2        3  113228  15602.0\n",
       "3        4  114885  31357.0\n",
       "4        5  113041  11862.0"
      ]
     },
     "execution_count": 877,
     "metadata": {},
     "output_type": "execute_result"
    }
   ],
   "source": [
    "df_links.head()"
   ]
  },
  {
   "cell_type": "markdown",
   "metadata": {},
   "source": [
    "### Content Recommendation System"
   ]
  },
  {
   "cell_type": "markdown",
   "metadata": {},
   "source": [
    "To make this we will do following steps: \n",
    "\n",
    "1) Build a user profile of what movies this user has liked in the past.  \n",
    "2) Build a vector for each movie  \n",
    "3) Find similar movies that user hasn't seen that are highly rated similar to what he/she has liked in past."
   ]
  },
  {
   "cell_type": "markdown",
   "metadata": {},
   "source": [
    "#### First, get movies that are liked by each user in a dictionary"
   ]
  },
  {
   "cell_type": "code",
   "execution_count": 878,
   "metadata": {},
   "outputs": [
    {
     "name": "stdout",
     "output_type": "stream",
     "text": [
      "Number of Unique Users is 610\n",
      "Movies liked by user 550 [59315, 79132, 89745, 109487, 122904]\n"
     ]
    }
   ],
   "source": [
    "user_liked_movies = {}\n",
    "unique_users = list(set(df_ratings[\"userId\"]))\n",
    "print(\"Number of Unique Users is\", len(unique_users))\n",
    "\n",
    "for user_id in unique_users:\n",
    "    user_df = df_ratings[df_ratings[\"userId\"]==user_id]\n",
    "    user_liked_movies[user_id] = user_df[user_df[\"rating\"] > 4.5][\"movieId\"].tolist()\n",
    "\n",
    "print(\"Movies liked by user 550\", user_liked_movies[550])"
   ]
  },
  {
   "cell_type": "markdown",
   "metadata": {},
   "source": [
    "#### Second, build genres list to help vectorize them"
   ]
  },
  {
   "cell_type": "code",
   "execution_count": 879,
   "metadata": {},
   "outputs": [
    {
     "name": "stdout",
     "output_type": "stream",
     "text": [
      "Total genres are 20 and these are ['Fantasy', 'Action', 'Thriller', 'Documentary', 'Film-Noir', 'Animation', 'Drama', 'Sci-Fi', 'Children', 'Adventure', 'Romance', 'Mystery', 'Comedy', 'Musical', '(no genres listed)', 'Horror', 'IMAX', 'Western', 'War', 'Crime']\n"
     ]
    }
   ],
   "source": [
    "genres = []\n",
    "\n",
    "for _, row in df_movies.iterrows():\n",
    "    genres.extend(row[\"genres\"].split(\"|\"))\n",
    "    \n",
    "genres = list(set(genres))\n",
    "print(\"Total genres are {} and these are {}\".format(len(genres), genres))"
   ]
  },
  {
   "cell_type": "code",
   "execution_count": 880,
   "metadata": {},
   "outputs": [
    {
     "data": {
      "text/html": [
       "<div>\n",
       "<style scoped>\n",
       "    .dataframe tbody tr th:only-of-type {\n",
       "        vertical-align: middle;\n",
       "    }\n",
       "\n",
       "    .dataframe tbody tr th {\n",
       "        vertical-align: top;\n",
       "    }\n",
       "\n",
       "    .dataframe thead th {\n",
       "        text-align: right;\n",
       "    }\n",
       "</style>\n",
       "<table border=\"1\" class=\"dataframe\">\n",
       "  <thead>\n",
       "    <tr style=\"text-align: right;\">\n",
       "      <th></th>\n",
       "      <th>movieId</th>\n",
       "      <th>title</th>\n",
       "      <th>genres</th>\n",
       "    </tr>\n",
       "  </thead>\n",
       "  <tbody>\n",
       "    <tr>\n",
       "      <th>8517</th>\n",
       "      <td>114335</td>\n",
       "      <td>La cravate (1957)</td>\n",
       "      <td>(no genres listed)</td>\n",
       "    </tr>\n",
       "    <tr>\n",
       "      <th>8684</th>\n",
       "      <td>122888</td>\n",
       "      <td>Ben-hur (2016)</td>\n",
       "      <td>(no genres listed)</td>\n",
       "    </tr>\n",
       "    <tr>\n",
       "      <th>8687</th>\n",
       "      <td>122896</td>\n",
       "      <td>Pirates of the Caribbean: Dead Men Tell No Tal...</td>\n",
       "      <td>(no genres listed)</td>\n",
       "    </tr>\n",
       "    <tr>\n",
       "      <th>8782</th>\n",
       "      <td>129250</td>\n",
       "      <td>Superfast! (2015)</td>\n",
       "      <td>(no genres listed)</td>\n",
       "    </tr>\n",
       "    <tr>\n",
       "      <th>8836</th>\n",
       "      <td>132084</td>\n",
       "      <td>Let It Be Me (1995)</td>\n",
       "      <td>(no genres listed)</td>\n",
       "    </tr>\n",
       "  </tbody>\n",
       "</table>\n",
       "</div>"
      ],
      "text/plain": [
       "      movieId                                              title  \\\n",
       "8517   114335                                  La cravate (1957)   \n",
       "8684   122888                                     Ben-hur (2016)   \n",
       "8687   122896  Pirates of the Caribbean: Dead Men Tell No Tal...   \n",
       "8782   129250                                  Superfast! (2015)   \n",
       "8836   132084                                Let It Be Me (1995)   \n",
       "\n",
       "                  genres  \n",
       "8517  (no genres listed)  \n",
       "8684  (no genres listed)  \n",
       "8687  (no genres listed)  \n",
       "8782  (no genres listed)  \n",
       "8836  (no genres listed)  "
      ]
     },
     "execution_count": 880,
     "metadata": {},
     "output_type": "execute_result"
    }
   ],
   "source": [
    "removed_movies = df_movies[df_movies[\"genres\"] == \"(no genres listed)\"][\"movieId\"].tolist()\n",
    "df_movies[df_movies[\"genres\"] == \"(no genres listed)\"].head()"
   ]
  },
  {
   "cell_type": "markdown",
   "metadata": {},
   "source": [
    "#### Let's remove movies that have (no genres listed) and redo genre building"
   ]
  },
  {
   "cell_type": "code",
   "execution_count": 881,
   "metadata": {},
   "outputs": [
    {
     "name": "stdout",
     "output_type": "stream",
     "text": [
      "[114335, 122888, 122896, 129250, 132084, 134861, 141131, 141866, 142456, 143410, 147250, 149330, 152037, 155589, 156605, 159161, 159779, 161008, 165489, 166024, 167570, 169034, 171495, 171631, 171749, 171891, 172497, 172591, 173535, 174403, 176601, 181413, 181719, 182727]\n"
     ]
    }
   ],
   "source": [
    "print(removed_movies)"
   ]
  },
  {
   "cell_type": "code",
   "execution_count": 882,
   "metadata": {},
   "outputs": [
    {
     "name": "stdout",
     "output_type": "stream",
     "text": [
      "Total genres are 19 and these are ['Action', 'Adventure', 'Animation', 'Children', 'Comedy', 'Crime', 'Documentary', 'Drama', 'Fantasy', 'Film-Noir', 'Horror', 'IMAX', 'Musical', 'Mystery', 'Romance', 'Sci-Fi', 'Thriller', 'War', 'Western']\n"
     ]
    }
   ],
   "source": [
    "df_movies = df_movies[df_movies[\"genres\"] != \"(no genres listed)\"].reset_index()\n",
    "genres = []\n",
    "\n",
    "for _, row in df_movies.iterrows():\n",
    "    genres.extend(row[\"genres\"].split(\"|\"))\n",
    "    \n",
    "genres = sorted(set(genres))\n",
    "print(\"Total genres are {} and these are {}\".format(len(genres), genres))"
   ]
  },
  {
   "cell_type": "code",
   "execution_count": 883,
   "metadata": {},
   "outputs": [
    {
     "name": "stdout",
     "output_type": "stream",
     "text": [
      "index                          1284\n",
      "movieId                        1704\n",
      "title      Good Will Hunting (1997)\n",
      "genres                Drama|Romance\n",
      "Name: 1284, dtype: object\n"
     ]
    }
   ],
   "source": [
    "print(df_movies.loc[1284])"
   ]
  },
  {
   "cell_type": "markdown",
   "metadata": {},
   "source": [
    "#### Third, let's vectorize each of the movie's genres"
   ]
  },
  {
   "cell_type": "code",
   "execution_count": 884,
   "metadata": {},
   "outputs": [
    {
     "data": {
      "text/html": [
       "<div>\n",
       "<style scoped>\n",
       "    .dataframe tbody tr th:only-of-type {\n",
       "        vertical-align: middle;\n",
       "    }\n",
       "\n",
       "    .dataframe tbody tr th {\n",
       "        vertical-align: top;\n",
       "    }\n",
       "\n",
       "    .dataframe thead th {\n",
       "        text-align: right;\n",
       "    }\n",
       "</style>\n",
       "<table border=\"1\" class=\"dataframe\">\n",
       "  <thead>\n",
       "    <tr style=\"text-align: right;\">\n",
       "      <th></th>\n",
       "      <th>index</th>\n",
       "      <th>movieId</th>\n",
       "      <th>title</th>\n",
       "      <th>genres</th>\n",
       "      <th>feature_vector</th>\n",
       "    </tr>\n",
       "  </thead>\n",
       "  <tbody>\n",
       "    <tr>\n",
       "      <th>0</th>\n",
       "      <td>0</td>\n",
       "      <td>1</td>\n",
       "      <td>Toy Story (1995)</td>\n",
       "      <td>Adventure|Animation|Children|Comedy|Fantasy</td>\n",
       "      <td>[0, 0, 0, 0, 0, 0, 0, 0, 0, 0, 0, 0, 0, 0, 0, ...</td>\n",
       "    </tr>\n",
       "    <tr>\n",
       "      <th>1</th>\n",
       "      <td>1</td>\n",
       "      <td>2</td>\n",
       "      <td>Jumanji (1995)</td>\n",
       "      <td>Adventure|Children|Fantasy</td>\n",
       "      <td>[0, 0, 0, 0, 0, 0, 0, 0, 0, 0, 0, 0, 0, 0, 0, ...</td>\n",
       "    </tr>\n",
       "    <tr>\n",
       "      <th>2</th>\n",
       "      <td>2</td>\n",
       "      <td>3</td>\n",
       "      <td>Grumpier Old Men (1995)</td>\n",
       "      <td>Comedy|Romance</td>\n",
       "      <td>[0, 0, 0, 0, 0, 0, 0, 0, 0, 0, 0, 0, 0, 0, 0, ...</td>\n",
       "    </tr>\n",
       "    <tr>\n",
       "      <th>3</th>\n",
       "      <td>3</td>\n",
       "      <td>4</td>\n",
       "      <td>Waiting to Exhale (1995)</td>\n",
       "      <td>Comedy|Drama|Romance</td>\n",
       "      <td>[0, 0, 0, 0, 0, 0, 0, 0, 0, 0, 0, 0, 0, 0, 0, ...</td>\n",
       "    </tr>\n",
       "    <tr>\n",
       "      <th>4</th>\n",
       "      <td>4</td>\n",
       "      <td>5</td>\n",
       "      <td>Father of the Bride Part II (1995)</td>\n",
       "      <td>Comedy</td>\n",
       "      <td>[0, 0, 0, 0, 0, 0, 0, 0, 0, 0, 0, 0, 0, 0, 0, ...</td>\n",
       "    </tr>\n",
       "  </tbody>\n",
       "</table>\n",
       "</div>"
      ],
      "text/plain": [
       "   index  movieId                               title  \\\n",
       "0      0        1                    Toy Story (1995)   \n",
       "1      1        2                      Jumanji (1995)   \n",
       "2      2        3             Grumpier Old Men (1995)   \n",
       "3      3        4            Waiting to Exhale (1995)   \n",
       "4      4        5  Father of the Bride Part II (1995)   \n",
       "\n",
       "                                        genres  \\\n",
       "0  Adventure|Animation|Children|Comedy|Fantasy   \n",
       "1                   Adventure|Children|Fantasy   \n",
       "2                               Comedy|Romance   \n",
       "3                         Comedy|Drama|Romance   \n",
       "4                                       Comedy   \n",
       "\n",
       "                                      feature_vector  \n",
       "0  [0, 0, 0, 0, 0, 0, 0, 0, 0, 0, 0, 0, 0, 0, 0, ...  \n",
       "1  [0, 0, 0, 0, 0, 0, 0, 0, 0, 0, 0, 0, 0, 0, 0, ...  \n",
       "2  [0, 0, 0, 0, 0, 0, 0, 0, 0, 0, 0, 0, 0, 0, 0, ...  \n",
       "3  [0, 0, 0, 0, 0, 0, 0, 0, 0, 0, 0, 0, 0, 0, 0, ...  \n",
       "4  [0, 0, 0, 0, 0, 0, 0, 0, 0, 0, 0, 0, 0, 0, 0, ...  "
      ]
     },
     "execution_count": 884,
     "metadata": {},
     "output_type": "execute_result"
    }
   ],
   "source": [
    "df_movies[\"feature_vector\"] = [[0]*len(genres) for i in range(len(df_movies))]\n",
    "df_movies.head()"
   ]
  },
  {
   "cell_type": "code",
   "execution_count": 885,
   "metadata": {},
   "outputs": [],
   "source": [
    "def annotate_vector(x):\n",
    "    v = [0 for i in range(len(genres))]\n",
    "    try:\n",
    "        this_movie_genres = x[\"genres\"].split(\"|\")\n",
    "    except:\n",
    "        print(x)\n",
    "    for g in this_movie_genres:\n",
    "        v[genres.index(g)] = 1\n",
    "    x[\"feature_vector\"] = v\n",
    "    return x"
   ]
  },
  {
   "cell_type": "code",
   "execution_count": 886,
   "metadata": {},
   "outputs": [
    {
     "name": "stdout",
     "output_type": "stream",
     "text": [
      "(9708, 5)\n"
     ]
    },
    {
     "data": {
      "text/html": [
       "<div>\n",
       "<style scoped>\n",
       "    .dataframe tbody tr th:only-of-type {\n",
       "        vertical-align: middle;\n",
       "    }\n",
       "\n",
       "    .dataframe tbody tr th {\n",
       "        vertical-align: top;\n",
       "    }\n",
       "\n",
       "    .dataframe thead th {\n",
       "        text-align: right;\n",
       "    }\n",
       "</style>\n",
       "<table border=\"1\" class=\"dataframe\">\n",
       "  <thead>\n",
       "    <tr style=\"text-align: right;\">\n",
       "      <th></th>\n",
       "      <th>index</th>\n",
       "      <th>movieId</th>\n",
       "      <th>title</th>\n",
       "      <th>genres</th>\n",
       "      <th>feature_vector</th>\n",
       "    </tr>\n",
       "  </thead>\n",
       "  <tbody>\n",
       "    <tr>\n",
       "      <th>0</th>\n",
       "      <td>0</td>\n",
       "      <td>1</td>\n",
       "      <td>Toy Story (1995)</td>\n",
       "      <td>Adventure|Animation|Children|Comedy|Fantasy</td>\n",
       "      <td>[0, 1, 1, 1, 1, 0, 0, 0, 1, 0, 0, 0, 0, 0, 0, ...</td>\n",
       "    </tr>\n",
       "    <tr>\n",
       "      <th>1</th>\n",
       "      <td>1</td>\n",
       "      <td>2</td>\n",
       "      <td>Jumanji (1995)</td>\n",
       "      <td>Adventure|Children|Fantasy</td>\n",
       "      <td>[0, 1, 0, 1, 0, 0, 0, 0, 1, 0, 0, 0, 0, 0, 0, ...</td>\n",
       "    </tr>\n",
       "    <tr>\n",
       "      <th>2</th>\n",
       "      <td>2</td>\n",
       "      <td>3</td>\n",
       "      <td>Grumpier Old Men (1995)</td>\n",
       "      <td>Comedy|Romance</td>\n",
       "      <td>[0, 0, 0, 0, 1, 0, 0, 0, 0, 0, 0, 0, 0, 0, 1, ...</td>\n",
       "    </tr>\n",
       "    <tr>\n",
       "      <th>3</th>\n",
       "      <td>3</td>\n",
       "      <td>4</td>\n",
       "      <td>Waiting to Exhale (1995)</td>\n",
       "      <td>Comedy|Drama|Romance</td>\n",
       "      <td>[0, 0, 0, 0, 1, 0, 0, 1, 0, 0, 0, 0, 0, 0, 1, ...</td>\n",
       "    </tr>\n",
       "    <tr>\n",
       "      <th>4</th>\n",
       "      <td>4</td>\n",
       "      <td>5</td>\n",
       "      <td>Father of the Bride Part II (1995)</td>\n",
       "      <td>Comedy</td>\n",
       "      <td>[0, 0, 0, 0, 1, 0, 0, 0, 0, 0, 0, 0, 0, 0, 0, ...</td>\n",
       "    </tr>\n",
       "  </tbody>\n",
       "</table>\n",
       "</div>"
      ],
      "text/plain": [
       "   index  movieId                               title  \\\n",
       "0      0        1                    Toy Story (1995)   \n",
       "1      1        2                      Jumanji (1995)   \n",
       "2      2        3             Grumpier Old Men (1995)   \n",
       "3      3        4            Waiting to Exhale (1995)   \n",
       "4      4        5  Father of the Bride Part II (1995)   \n",
       "\n",
       "                                        genres  \\\n",
       "0  Adventure|Animation|Children|Comedy|Fantasy   \n",
       "1                   Adventure|Children|Fantasy   \n",
       "2                               Comedy|Romance   \n",
       "3                         Comedy|Drama|Romance   \n",
       "4                                       Comedy   \n",
       "\n",
       "                                      feature_vector  \n",
       "0  [0, 1, 1, 1, 1, 0, 0, 0, 1, 0, 0, 0, 0, 0, 0, ...  \n",
       "1  [0, 1, 0, 1, 0, 0, 0, 0, 1, 0, 0, 0, 0, 0, 0, ...  \n",
       "2  [0, 0, 0, 0, 1, 0, 0, 0, 0, 0, 0, 0, 0, 0, 1, ...  \n",
       "3  [0, 0, 0, 0, 1, 0, 0, 1, 0, 0, 0, 0, 0, 0, 1, ...  \n",
       "4  [0, 0, 0, 0, 1, 0, 0, 0, 0, 0, 0, 0, 0, 0, 0, ...  "
      ]
     },
     "execution_count": 886,
     "metadata": {},
     "output_type": "execute_result"
    }
   ],
   "source": [
    "df_movies = df_movies.apply(annotate_vector, axis=1)\n",
    "        \n",
    "print(df_movies.shape)\n",
    "df_movies.head()"
   ]
  },
  {
   "cell_type": "code",
   "execution_count": 887,
   "metadata": {},
   "outputs": [
    {
     "data": {
      "text/plain": [
       "4"
      ]
     },
     "execution_count": 887,
     "metadata": {},
     "output_type": "execute_result"
    }
   ],
   "source": [
    "df_movies.loc[df_movies['movieId']==5].index[0]"
   ]
  },
  {
   "cell_type": "markdown",
   "metadata": {},
   "source": [
    "#### 4. Write a cosine similarity function"
   ]
  },
  {
   "cell_type": "code",
   "execution_count": 888,
   "metadata": {},
   "outputs": [],
   "source": [
    "import math\n",
    "def cosine_similarity_self(v1, v2):\n",
    "    numerator, denominator, v1mag, v2mag, cosine_sim = 0.0, 0.0, 0.0, 0.0, 0.0 \n",
    "    for i in range(len(v1)):\n",
    "        numerator += v1[i]*v2[i]\n",
    "        v1mag += v1[i] * v1[i]\n",
    "        v2mag += v2[i] * v2[i]\n",
    "    \n",
    "    denominator = math.sqrt(v1mag) * math.sqrt(v2mag)\n",
    "    if denominator == 0.0:\n",
    "        return 0.0\n",
    "    cosine_sim = numerator/ denominator\n",
    "    return round(cosine_sim, 4)\n",
    "    "
   ]
  },
  {
   "cell_type": "code",
   "execution_count": 889,
   "metadata": {},
   "outputs": [
    {
     "name": "stdout",
     "output_type": "stream",
     "text": [
      "0.3162\n",
      "1.0\n"
     ]
    }
   ],
   "source": [
    "print(cosine_similarity_self([0, 1, 1, 1, 1, 0, 0, 0, 1, 0, 0, 0, 0, 0, 0, 0, 0, 0, 0], [0, 0, 0, 0, 1, 0, 0, 0, 0, 0, 0, 0, 0, 0, 1, 0, 0, 0, 0]))\n",
    "print(cosine_similarity_self([5, 5, 5], [1, 1, 1]))\n"
   ]
  },
  {
   "cell_type": "code",
   "execution_count": 890,
   "metadata": {},
   "outputs": [
    {
     "name": "stdout",
     "output_type": "stream",
     "text": [
      "[0, 1, 0, 1, 0, 0, 0, 0, 1, 0, 0, 0, 0, 0, 0, 0, 0, 0, 0]\n"
     ]
    }
   ],
   "source": [
    "print(df_movies.loc[1, \"feature_vector\"])"
   ]
  },
  {
   "cell_type": "markdown",
   "metadata": {},
   "source": [
    "#### Let's calculate pairwise cosine similarity, to prevent re-calculating this for every movie for every user."
   ]
  },
  {
   "cell_type": "code",
   "execution_count": 891,
   "metadata": {},
   "outputs": [
    {
     "name": "stdout",
     "output_type": "stream",
     "text": [
      "[[0, 1, 1, 1, 1, 0, 0, 0, 1, 0, 0, 0, 0, 0, 0, 0, 0, 0, 0], [0, 1, 0, 1, 0, 0, 0, 0, 1, 0, 0, 0, 0, 0, 0, 0, 0, 0, 0], [0, 0, 0, 0, 1, 0, 0, 0, 0, 0, 0, 0, 0, 0, 1, 0, 0, 0, 0], [0, 0, 0, 0, 1, 0, 0, 1, 0, 0, 0, 0, 0, 0, 1, 0, 0, 0, 0], [0, 0, 0, 0, 1, 0, 0, 0, 0, 0, 0, 0, 0, 0, 0, 0, 0, 0, 0]]\n",
      "[[1.         0.77459667 0.31622777 0.25819889 0.4472136 ]\n",
      " [0.77459667 1.         0.         0.         0.        ]\n",
      " [0.31622777 0.         1.         0.81649658 0.70710678]\n",
      " [0.25819889 0.         0.81649658 1.         0.57735027]\n",
      " [0.4472136  0.         0.70710678 0.57735027 1.        ]]\n"
     ]
    }
   ],
   "source": [
    "from sklearn.metrics.pairwise import cosine_similarity\n",
    "print(df_movies[\"feature_vector\"].tolist()[:5])\n",
    "print(cosine_similarity(df_movies[\"feature_vector\"].tolist()[:5]))"
   ]
  },
  {
   "cell_type": "code",
   "execution_count": 892,
   "metadata": {},
   "outputs": [
    {
     "name": "stdout",
     "output_type": "stream",
     "text": [
      "[[1.         0.77459667 0.31622777 ... 0.         0.31622777 0.4472136 ]\n",
      " [0.77459667 1.         0.         ... 0.         0.         0.        ]\n",
      " [0.31622777 0.         1.         ... 0.         0.         0.70710678]\n",
      " ...\n",
      " [0.         0.         0.         ... 1.         0.         0.        ]\n",
      " [0.31622777 0.         0.         ... 0.         1.         0.        ]\n",
      " [0.4472136  0.         0.70710678 ... 0.         0.         1.        ]] (9708, 9708)\n"
     ]
    }
   ],
   "source": [
    "from sklearn.metrics.pairwise import cosine_similarity\n",
    "cosine_matrix = cosine_similarity(df_movies[\"feature_vector\"].tolist())\n",
    "print(cosine_matrix, cosine_matrix.shape)"
   ]
  },
  {
   "cell_type": "markdown",
   "metadata": {},
   "source": [
    "#### Test cosine similarity function"
   ]
  },
  {
   "cell_type": "code",
   "execution_count": 893,
   "metadata": {},
   "outputs": [
    {
     "name": "stdout",
     "output_type": "stream",
     "text": [
      "[[1.         0.91129318]\n",
      " [0.91129318 1.        ]]\n"
     ]
    },
    {
     "data": {
      "text/plain": [
       "array([[ 1., -1.],\n",
       "       [-1.,  1.]])"
      ]
     },
     "execution_count": 893,
     "metadata": {},
     "output_type": "execute_result"
    }
   ],
   "source": [
    "from sklearn.metrics.pairwise import cosine_similarity\n",
    "a = df_movies.loc[9653][\"feature_vector\"]\n",
    "b = df_movies.loc[507][\"feature_vector\"]\n",
    "cosine_similarity([a, b])\n",
    "\n",
    "a = (1,1,1,2) # now normalize and see \n",
    "b = (10,10,10,8) # normalize and see below\n",
    "\n",
    "print(cosine_similarity([a, b]))\n",
    "a, b = [-0.25000, -0.25000, -0.25000, 0.75000], [0.50000, 0.50000, 0.50000, -1.50000]\n",
    "cosine_similarity([a, b])"
   ]
  },
  {
   "cell_type": "markdown",
   "metadata": {},
   "source": [
    "#### Time for recommending movies to users!"
   ]
  },
  {
   "cell_type": "code",
   "execution_count": 894,
   "metadata": {},
   "outputs": [
    {
     "name": "stdout",
     "output_type": "stream",
     "text": [
      "[[1.         0.77459667 0.31622777 ... 0.         0.31622777 0.4472136 ]\n",
      " [0.77459667 1.         0.         ... 0.         0.         0.        ]\n",
      " [0.31622777 0.         1.         ... 0.         0.         0.70710678]\n",
      " ...\n",
      " [0.         0.         0.         ... 1.         0.         0.        ]\n",
      " [0.31622777 0.         0.         ... 0.         1.         0.        ]\n",
      " [0.4472136  0.         0.70710678 ... 0.         0.         1.        ]] [0.  0.  0.  ... 0.  0.5 0. ]\n"
     ]
    }
   ],
   "source": [
    "print(cosine_matrix, cosine_matrix[507])"
   ]
  },
  {
   "cell_type": "code",
   "execution_count": 895,
   "metadata": {},
   "outputs": [
    {
     "name": "stdout",
     "output_type": "stream",
     "text": [
      "Anna Karenina (1997)\n"
     ]
    }
   ],
   "source": [
    "def get_movie_title(index_id, df):\n",
    "    # return df.loc[df[\"movieId\"] == movie_id, \"title\"].tolist()[0] \n",
    "    return df.loc[index_id, \"title\"]\n",
    "print(get_movie_title(1142, df_movies))"
   ]
  },
  {
   "cell_type": "code",
   "execution_count": 896,
   "metadata": {},
   "outputs": [],
   "source": [
    "import numpy as np\n",
    "\n",
    "def content_recommender_for_user(user_id):\n",
    "    liked_movie_ids = user_liked_movies[user_id]\n",
    "    for liked_movie_id in liked_movie_ids:\n",
    "        if liked_movie_id in removed_movies:\n",
    "            continue\n",
    "            \n",
    "        # Get index of this movie in df\n",
    "        idx = df_movies.loc[df_movies['movieId']==liked_movie_id].index[0]\n",
    "        liked_movie_title = get_movie_title(idx, df_movies)\n",
    "        \n",
    "        # idx = df_movies.index[df_movies['movieId'] == liked_movie_id].tolist()[0]\n",
    "        print(liked_movie_title, idx, liked_movie_id)\n",
    "        cosine_sims = np.copy(cosine_matrix[idx])  # Get cosine sim of this movie to all other movies\n",
    "        # Find top 5 highest movies using argsort in the pairwise cosine sim matrix\n",
    "        best_movies_to_recommend = cosine_sims.argsort()[::-1][:5]\n",
    "        print(\"best movies to recommend\", best_movies_to_recommend, np.sort(cosine_sims)[::-1][:5])\n",
    "        for m in best_movies_to_recommend:\n",
    "            if m != idx:\n",
    "                print(\"Because you liked {}, we recommend {}\".format(liked_movie_title, get_movie_title(m, df_movies)))"
   ]
  },
  {
   "cell_type": "markdown",
   "metadata": {},
   "source": [
    "### Content Recommender given a particular user\n",
    "Given a user, find which movies they have liked in the past and find similar movies based on genres"
   ]
  },
  {
   "cell_type": "code",
   "execution_count": 897,
   "metadata": {},
   "outputs": [
    {
     "name": "stdout",
     "output_type": "stream",
     "text": [
      "Troy (2004) 4948 7458\n",
      "best movies to recommend [4877 6457 4795 5707 4948] [1. 1. 1. 1. 1.]\n",
      "Because you liked Troy (2004), we recommend Flesh & Blood (1985)\n",
      "Because you liked Troy (2004), we recommend Inglorious Bastards (Quel maledetto treno blindato) (1978)\n",
      "Because you liked Troy (2004), we recommend Last Samurai, The (2003)\n",
      "Because you liked Troy (2004), we recommend Saints and Soldiers (2003)\n",
      "Notebook, The (2004) 5227 8533\n",
      "best movies to recommend [1144 1142 8072 1268 3651] [1. 1. 1. 1. 1.]\n",
      "Because you liked Notebook, The (2004), we recommend Inventing the Abbotts (1997)\n",
      "Because you liked Notebook, The (2004), we recommend Anna Karenina (1997)\n",
      "Because you liked Notebook, The (2004), we recommend Misérables, Les (2000)\n",
      "Because you liked Notebook, The (2004), we recommend Wings of the Dove, The (1997)\n",
      "Because you liked Notebook, The (2004), we recommend Monster's Ball (2001)\n",
      "First Daughter (2004) 5332 8869\n",
      "best movies to recommend [4688 3777  361 3792 3790] [1. 1. 1. 1. 1.]\n",
      "Because you liked First Daughter (2004), we recommend Housesitter (1992)\n",
      "Because you liked First Daughter (2004), we recommend Impromptu (1991)\n",
      "Because you liked First Daughter (2004), we recommend Barcelona (1994)\n",
      "Because you liked First Daughter (2004), we recommend Joe Versus the Volcano (1990)\n",
      "Because you liked First Daughter (2004), we recommend My Big Fat Greek Wedding (2002)\n",
      "Batman Begins (2005) 5917 33794\n",
      "best movies to recommend [5917 8103 8387 6710 6852] [1.        0.8660254 0.8660254 0.8660254 0.8660254]\n",
      "Because you liked Batman Begins (2005), we recommend Good Day to Die Hard, A (2013)\n",
      "Because you liked Batman Begins (2005), we recommend Need for Speed (2014)\n",
      "Because you liked Batman Begins (2005), we recommend Dark Knight, The (2008)\n",
      "Because you liked Batman Begins (2005), we recommend Eagle Eye (2008)\n",
      "Casino Royale (2006) 6346 49272\n",
      "best movies to recommend [2713 2700 1802 9233 2219] [1. 1. 1. 1. 1.]\n",
      "Because you liked Casino Royale (2006), we recommend Man with the Golden Gun, The (1974)\n",
      "Because you liked Casino Royale (2006), we recommend Mission: Impossible II (2000)\n",
      "Because you liked Casino Royale (2006), we recommend Rambo: First Blood Part II (1985)\n",
      "Because you liked Casino Royale (2006), we recommend Camino (2016)\n",
      "Because you liked Casino Royale (2006), we recommend From Russia with Love (1963)\n",
      "Holiday, The (2006) 6352 49286\n",
      "best movies to recommend [4688 3777  361 3792 3790] [1. 1. 1. 1. 1.]\n",
      "Because you liked Holiday, The (2006), we recommend Housesitter (1992)\n",
      "Because you liked Holiday, The (2006), we recommend Impromptu (1991)\n",
      "Because you liked Holiday, The (2006), we recommend Barcelona (1994)\n",
      "Because you liked Holiday, The (2006), we recommend Joe Versus the Volcano (1990)\n",
      "Because you liked Holiday, The (2006), we recommend My Big Fat Greek Wedding (2002)\n",
      "Education, An (2009) 7156 71579\n",
      "best movies to recommend [1144 1142 8072 1268 3651] [1. 1. 1. 1. 1.]\n",
      "Because you liked Education, An (2009), we recommend Inventing the Abbotts (1997)\n",
      "Because you liked Education, An (2009), we recommend Anna Karenina (1997)\n",
      "Because you liked Education, An (2009), we recommend Misérables, Les (2000)\n",
      "Because you liked Education, An (2009), we recommend Wings of the Dove, The (1997)\n",
      "Because you liked Education, An (2009), we recommend Monster's Ball (2001)\n",
      "Despicable Me (2010) 7371 79091\n",
      "best movies to recommend [ 868 7371 7180 9375 2806] [1.         1.         0.89442719 0.8660254  0.8660254 ]\n",
      "Because you liked Despicable Me (2010), we recommend Wallace & Gromit: The Wrong Trousers (1993)\n",
      "Because you liked Despicable Me (2010), we recommend Fantastic Mr. Fox (2009)\n",
      "Because you liked Despicable Me (2010), we recommend Storks (2016)\n",
      "Because you liked Despicable Me (2010), we recommend Chicken Run (2000)\n",
      "King's Speech, The (2010) 7466 81845\n",
      "best movies to recommend [6568 1575 8291  564 3073] [1. 1. 1. 1. 1.]\n",
      "Because you liked King's Speech, The (2010), we recommend December Boys (2007)\n",
      "Because you liked King's Speech, The (2010), we recommend Outsiders, The (1983)\n",
      "Because you liked King's Speech, The (2010), we recommend Selfish Giant, The (2013)\n",
      "Because you liked King's Speech, The (2010), we recommend It's My Party (1996)\n",
      "Because you liked King's Speech, The (2010), we recommend Less Than Zero (1987)\n",
      "Dark Knight Rises, The (2012) 7768 91529\n",
      "best movies to recommend [7768 8923 5917 8027 6518] [1.        0.8660254 0.8660254 0.8660254 0.75     ]\n",
      "Because you liked Dark Knight Rises, The (2012), we recommend Spectre (2015)\n",
      "Because you liked Dark Knight Rises, The (2012), we recommend Batman Begins (2005)\n",
      "Because you liked Dark Knight Rises, The (2012), we recommend Man with the Iron Fists, The (2012)\n",
      "Because you liked Dark Knight Rises, The (2012), we recommend Live Free or Die Hard (2007)\n",
      "Intouchables (2011) 7802 92259\n",
      "best movies to recommend [6733  282 6661 7830 6642] [1. 1. 1. 1. 1.]\n",
      "Because you liked Intouchables (2011), we recommend Happy-Go-Lucky (2008)\n",
      "Because you liked Intouchables (2011), we recommend Sum of Us, The (1994)\n",
      "Because you liked Intouchables (2011), we recommend Band's Visit, The (Bikur Ha-Tizmoret) (2007)\n",
      "Because you liked Intouchables (2011), we recommend Ro.Go.Pa.G. (1963)\n",
      "Because you liked Intouchables (2011), we recommend Bucket List, The (2007)\n",
      "Skyfall (2012) 7955 96079\n",
      "best movies to recommend [6207 7955 7774 8120 6470] [1.         1.         1.         0.89442719 0.89442719]\n",
      "Because you liked Skyfall (2012), we recommend Poseidon (2006)\n",
      "Because you liked Skyfall (2012), we recommend Mission: Impossible - Ghost Protocol (2011)\n",
      "Because you liked Skyfall (2012), we recommend G.I. Joe: Retaliation (2013)\n",
      "Because you liked Skyfall (2012), we recommend Spider-Man 3 (2007)\n",
      "Spectre (2015) 8923 136020\n",
      "best movies to recommend [8027 8923  403 7768 4726] [1.        1.        0.8660254 0.8660254 0.8660254]\n",
      "Because you liked Spectre (2015), we recommend Man with the Iron Fists, The (2012)\n",
      "Because you liked Spectre (2015), we recommend Hard Target (1993)\n",
      "Because you liked Spectre (2015), we recommend Dark Knight Rises, The (2012)\n",
      "Because you liked Spectre (2015), we recommend Nothing to Lose (1997)\n",
      "The Intern (2015) 9000 140110\n",
      "best movies to recommend [9707 8162 8088 8090 8092] [1. 1. 1. 1. 1.]\n",
      "Because you liked The Intern (2015), we recommend Andrew Dice Clay: Dice Rules (1991)\n",
      "Because you liked The Intern (2015), we recommend Mimino (1977)\n",
      "Because you liked The Intern (2015), we recommend Movie 43 (2013)\n",
      "Because you liked The Intern (2015), we recommend Sightseers (2012)\n",
      "Because you liked The Intern (2015), we recommend Jim Jefferies: Fully Functional (EPIX) (2012)\n"
     ]
    }
   ],
   "source": [
    "content_recommender_for_user(10)"
   ]
  },
  {
   "cell_type": "markdown",
   "metadata": {},
   "source": [
    "### Content Recommender given a particular movie\n",
    "Given a movie, find similar movies based on common genres\n"
   ]
  },
  {
   "cell_type": "code",
   "execution_count": 986,
   "metadata": {},
   "outputs": [
    {
     "name": "stdout",
     "output_type": "stream",
     "text": [
      "Drama|Romance\n"
     ]
    }
   ],
   "source": [
    "def get_movie_genres(index_id, df):\n",
    "    # return df.loc[df[\"movieId\"] == movie_id, \"title\"].tolist()[0] \n",
    "    return df.loc[index_id, \"genres\"]\n",
    "print(get_movie_genres(1142, df_movies))"
   ]
  },
  {
   "cell_type": "code",
   "execution_count": 899,
   "metadata": {},
   "outputs": [],
   "source": [
    "def content_recommender_for_movie(movie_title):\n",
    "    # Get index of this movie in df\n",
    "    idx = df_movies[df_movies[\"title\"].str.contains(movie_title)].index[0]\n",
    "\n",
    "    # idx = df_movies.index[df_movies['movieId'] == liked_movie_id].tolist()[0]\n",
    "    print(\"Movie you picked is {} with genres {} and index {}\".format(get_movie_title(idx, df_movies),\n",
    "                                                                    get_movie_genres(idx, df_movies), idx))\n",
    "    cosine_sims = np.copy(cosine_matrix[idx])  # Get cosine sim of this movie to all other movies\n",
    "    # print(pd.Series(cosine_sims).sort_values(ascending=False))\n",
    "    # Find top 5 highest movies using argsort in the pairwise cosine sim matrix\n",
    "    best_movies_to_recommend = cosine_sims.argsort()[::-1][:10]\n",
    "    print(\"best movies to recommend\", best_movies_to_recommend, np.sort(cosine_sims)[::-1][:10])\n",
    "    for m in best_movies_to_recommend:\n",
    "        if m != idx:\n",
    "            print(\"We recommend {} with genres {}\".format(get_movie_title(m, df_movies), get_movie_genres(m, df_movies)))"
   ]
  },
  {
   "cell_type": "code",
   "execution_count": 927,
   "metadata": {},
   "outputs": [
    {
     "name": "stdout",
     "output_type": "stream",
     "text": [
      "Movie you picked is Star Wars: Episode VI - Return of the Jedi (1983) with genres Action|Adventure|Sci-Fi and index 911\n",
      "best movies to recommend [3599 7627  911 5896 4658 6791 3731 1692 9064  176] [1. 1. 1. 1. 1. 1. 1. 1. 1. 1.]\n",
      "We recommend Flash Gordon (1980) with genres Action|Adventure|Sci-Fi\n",
      "We recommend Green Lantern (2011) with genres Action|Adventure|Sci-Fi\n",
      "We recommend Star Wars: Episode III - Revenge of the Sith (2005) with genres Action|Adventure|Sci-Fi\n",
      "We recommend Timeline (2003) with genres Action|Adventure|Sci-Fi\n",
      "We recommend Journey to the Center of the Earth (2008) with genres Action|Adventure|Sci-Fi\n",
      "We recommend Time Machine, The (2002) with genres Action|Adventure|Sci-Fi\n",
      "We recommend Six-String Samurai (1998) with genres Action|Adventure|Sci-Fi\n",
      "We recommend Our Brand Is Crisis (2015) with genres Comedy|Drama\n",
      "We recommend Waterworld (1995) with genres Action|Adventure|Sci-Fi\n"
     ]
    }
   ],
   "source": [
    "content_recommender_for_movie(\"Return of the Jedi\")"
   ]
  },
  {
   "cell_type": "markdown",
   "metadata": {},
   "source": [
    "## Things to improve content recommendation engine:\n",
    "1) Remove years from movie titles and use years in some way \n",
    "\n",
    "2) Do ranking within the filtered movies for user above to select movies based on User-User CF or some other technique \n",
    "\n",
    "3) Only look at 5 star movies first for each user, and then 4.5 and so on \n",
    "\n",
    "4) What if the only movie liked by the user has no genres?"
   ]
  },
  {
   "cell_type": "markdown",
   "metadata": {},
   "source": [
    "## Now, let's try User-User Collaborative Filtering system\n",
    "We could have chosen Item-Item Similarity also but users are more sparse and fewer, thats why its better, also somewhat more fun to find similar users also. In real life, Amazon and others use item-item CF because items are lesser than total users."
   ]
  },
  {
   "cell_type": "code",
   "execution_count": 908,
   "metadata": {},
   "outputs": [],
   "source": [
    "df_movies = pd.read_csv(\"movies.csv\")"
   ]
  },
  {
   "cell_type": "code",
   "execution_count": 909,
   "metadata": {},
   "outputs": [
    {
     "data": {
      "text/plain": [
       "(9742, 3)"
      ]
     },
     "execution_count": 909,
     "metadata": {},
     "output_type": "execute_result"
    }
   ],
   "source": [
    "df_movies.shape"
   ]
  },
  {
   "cell_type": "code",
   "execution_count": 910,
   "metadata": {},
   "outputs": [
    {
     "data": {
      "text/html": [
       "<div>\n",
       "<style scoped>\n",
       "    .dataframe tbody tr th:only-of-type {\n",
       "        vertical-align: middle;\n",
       "    }\n",
       "\n",
       "    .dataframe tbody tr th {\n",
       "        vertical-align: top;\n",
       "    }\n",
       "\n",
       "    .dataframe thead th {\n",
       "        text-align: right;\n",
       "    }\n",
       "</style>\n",
       "<table border=\"1\" class=\"dataframe\">\n",
       "  <thead>\n",
       "    <tr style=\"text-align: right;\">\n",
       "      <th></th>\n",
       "      <th>movieId</th>\n",
       "      <th>title</th>\n",
       "      <th>genres</th>\n",
       "    </tr>\n",
       "  </thead>\n",
       "  <tbody>\n",
       "    <tr>\n",
       "      <th>0</th>\n",
       "      <td>1</td>\n",
       "      <td>Toy Story (1995)</td>\n",
       "      <td>Adventure|Animation|Children|Comedy|Fantasy</td>\n",
       "    </tr>\n",
       "    <tr>\n",
       "      <th>1</th>\n",
       "      <td>2</td>\n",
       "      <td>Jumanji (1995)</td>\n",
       "      <td>Adventure|Children|Fantasy</td>\n",
       "    </tr>\n",
       "    <tr>\n",
       "      <th>2</th>\n",
       "      <td>3</td>\n",
       "      <td>Grumpier Old Men (1995)</td>\n",
       "      <td>Comedy|Romance</td>\n",
       "    </tr>\n",
       "    <tr>\n",
       "      <th>3</th>\n",
       "      <td>4</td>\n",
       "      <td>Waiting to Exhale (1995)</td>\n",
       "      <td>Comedy|Drama|Romance</td>\n",
       "    </tr>\n",
       "    <tr>\n",
       "      <th>4</th>\n",
       "      <td>5</td>\n",
       "      <td>Father of the Bride Part II (1995)</td>\n",
       "      <td>Comedy</td>\n",
       "    </tr>\n",
       "  </tbody>\n",
       "</table>\n",
       "</div>"
      ],
      "text/plain": [
       "   movieId                               title  \\\n",
       "0        1                    Toy Story (1995)   \n",
       "1        2                      Jumanji (1995)   \n",
       "2        3             Grumpier Old Men (1995)   \n",
       "3        4            Waiting to Exhale (1995)   \n",
       "4        5  Father of the Bride Part II (1995)   \n",
       "\n",
       "                                        genres  \n",
       "0  Adventure|Animation|Children|Comedy|Fantasy  \n",
       "1                   Adventure|Children|Fantasy  \n",
       "2                               Comedy|Romance  \n",
       "3                         Comedy|Drama|Romance  \n",
       "4                                       Comedy  "
      ]
     },
     "execution_count": 910,
     "metadata": {},
     "output_type": "execute_result"
    }
   ],
   "source": [
    "df_movies.head()"
   ]
  },
  {
   "cell_type": "code",
   "execution_count": 911,
   "metadata": {},
   "outputs": [
    {
     "data": {
      "text/html": [
       "<div>\n",
       "<style scoped>\n",
       "    .dataframe tbody tr th:only-of-type {\n",
       "        vertical-align: middle;\n",
       "    }\n",
       "\n",
       "    .dataframe tbody tr th {\n",
       "        vertical-align: top;\n",
       "    }\n",
       "\n",
       "    .dataframe thead th {\n",
       "        text-align: right;\n",
       "    }\n",
       "</style>\n",
       "<table border=\"1\" class=\"dataframe\">\n",
       "  <thead>\n",
       "    <tr style=\"text-align: right;\">\n",
       "      <th></th>\n",
       "      <th>userId</th>\n",
       "      <th>movieId</th>\n",
       "      <th>rating</th>\n",
       "      <th>timestamp</th>\n",
       "    </tr>\n",
       "  </thead>\n",
       "  <tbody>\n",
       "    <tr>\n",
       "      <th>0</th>\n",
       "      <td>1</td>\n",
       "      <td>1</td>\n",
       "      <td>4.0</td>\n",
       "      <td>964982703</td>\n",
       "    </tr>\n",
       "    <tr>\n",
       "      <th>1</th>\n",
       "      <td>1</td>\n",
       "      <td>3</td>\n",
       "      <td>4.0</td>\n",
       "      <td>964981247</td>\n",
       "    </tr>\n",
       "    <tr>\n",
       "      <th>2</th>\n",
       "      <td>1</td>\n",
       "      <td>6</td>\n",
       "      <td>4.0</td>\n",
       "      <td>964982224</td>\n",
       "    </tr>\n",
       "    <tr>\n",
       "      <th>3</th>\n",
       "      <td>1</td>\n",
       "      <td>47</td>\n",
       "      <td>5.0</td>\n",
       "      <td>964983815</td>\n",
       "    </tr>\n",
       "    <tr>\n",
       "      <th>4</th>\n",
       "      <td>1</td>\n",
       "      <td>50</td>\n",
       "      <td>5.0</td>\n",
       "      <td>964982931</td>\n",
       "    </tr>\n",
       "  </tbody>\n",
       "</table>\n",
       "</div>"
      ],
      "text/plain": [
       "   userId  movieId  rating  timestamp\n",
       "0       1        1     4.0  964982703\n",
       "1       1        3     4.0  964981247\n",
       "2       1        6     4.0  964982224\n",
       "3       1       47     5.0  964983815\n",
       "4       1       50     5.0  964982931"
      ]
     },
     "execution_count": 911,
     "metadata": {},
     "output_type": "execute_result"
    }
   ],
   "source": [
    "df_ratings.head()"
   ]
  },
  {
   "cell_type": "code",
   "execution_count": 912,
   "metadata": {},
   "outputs": [
    {
     "data": {
      "text/html": [
       "<div>\n",
       "<style scoped>\n",
       "    .dataframe tbody tr th:only-of-type {\n",
       "        vertical-align: middle;\n",
       "    }\n",
       "\n",
       "    .dataframe tbody tr th {\n",
       "        vertical-align: top;\n",
       "    }\n",
       "\n",
       "    .dataframe thead th {\n",
       "        text-align: right;\n",
       "    }\n",
       "</style>\n",
       "<table border=\"1\" class=\"dataframe\">\n",
       "  <thead>\n",
       "    <tr style=\"text-align: right;\">\n",
       "      <th></th>\n",
       "      <th>movieId</th>\n",
       "      <th>title</th>\n",
       "      <th>genres</th>\n",
       "    </tr>\n",
       "  </thead>\n",
       "  <tbody>\n",
       "    <tr>\n",
       "      <th>5908</th>\n",
       "      <td>33669</td>\n",
       "      <td>Sisterhood of the Traveling Pants, The (2005)</td>\n",
       "      <td>Adventure|Comedy|Drama</td>\n",
       "    </tr>\n",
       "  </tbody>\n",
       "</table>\n",
       "</div>"
      ],
      "text/plain": [
       "      movieId                                          title  \\\n",
       "5908    33669  Sisterhood of the Traveling Pants, The (2005)   \n",
       "\n",
       "                      genres  \n",
       "5908  Adventure|Comedy|Drama  "
      ]
     },
     "execution_count": 912,
     "metadata": {},
     "output_type": "execute_result"
    }
   ],
   "source": [
    "df_movies.loc[df_movies[\"movieId\"]==33669]"
   ]
  },
  {
   "cell_type": "code",
   "execution_count": 913,
   "metadata": {},
   "outputs": [
    {
     "data": {
      "text/html": [
       "<div>\n",
       "<style scoped>\n",
       "    .dataframe tbody tr th:only-of-type {\n",
       "        vertical-align: middle;\n",
       "    }\n",
       "\n",
       "    .dataframe tbody tr th {\n",
       "        vertical-align: top;\n",
       "    }\n",
       "\n",
       "    .dataframe thead th {\n",
       "        text-align: right;\n",
       "    }\n",
       "</style>\n",
       "<table border=\"1\" class=\"dataframe\">\n",
       "  <thead>\n",
       "    <tr style=\"text-align: right;\">\n",
       "      <th></th>\n",
       "      <th>userId</th>\n",
       "      <th>movieId</th>\n",
       "      <th>rating</th>\n",
       "      <th>timestamp</th>\n",
       "    </tr>\n",
       "  </thead>\n",
       "  <tbody>\n",
       "    <tr>\n",
       "      <th>241</th>\n",
       "      <td>2</td>\n",
       "      <td>60756</td>\n",
       "      <td>5.0</td>\n",
       "      <td>1445714980</td>\n",
       "    </tr>\n",
       "    <tr>\n",
       "      <th>248</th>\n",
       "      <td>2</td>\n",
       "      <td>80906</td>\n",
       "      <td>5.0</td>\n",
       "      <td>1445715172</td>\n",
       "    </tr>\n",
       "    <tr>\n",
       "      <th>250</th>\n",
       "      <td>2</td>\n",
       "      <td>89774</td>\n",
       "      <td>5.0</td>\n",
       "      <td>1445715189</td>\n",
       "    </tr>\n",
       "    <tr>\n",
       "      <th>254</th>\n",
       "      <td>2</td>\n",
       "      <td>106782</td>\n",
       "      <td>5.0</td>\n",
       "      <td>1445714966</td>\n",
       "    </tr>\n",
       "    <tr>\n",
       "      <th>259</th>\n",
       "      <td>2</td>\n",
       "      <td>122882</td>\n",
       "      <td>5.0</td>\n",
       "      <td>1445715272</td>\n",
       "    </tr>\n",
       "    <tr>\n",
       "      <th>260</th>\n",
       "      <td>2</td>\n",
       "      <td>131724</td>\n",
       "      <td>5.0</td>\n",
       "      <td>1445714851</td>\n",
       "    </tr>\n",
       "  </tbody>\n",
       "</table>\n",
       "</div>"
      ],
      "text/plain": [
       "     userId  movieId  rating   timestamp\n",
       "241       2    60756     5.0  1445714980\n",
       "248       2    80906     5.0  1445715172\n",
       "250       2    89774     5.0  1445715189\n",
       "254       2   106782     5.0  1445714966\n",
       "259       2   122882     5.0  1445715272\n",
       "260       2   131724     5.0  1445714851"
      ]
     },
     "execution_count": 913,
     "metadata": {},
     "output_type": "execute_result"
    }
   ],
   "source": [
    "x = df_ratings.loc[df_ratings[\"userId\"]==2]\n",
    "x[x[\"rating\"]>4.5]"
   ]
  },
  {
   "cell_type": "code",
   "execution_count": 914,
   "metadata": {},
   "outputs": [
    {
     "data": {
      "text/plain": [
       "(100836, 4)"
      ]
     },
     "execution_count": 914,
     "metadata": {},
     "output_type": "execute_result"
    }
   ],
   "source": [
    "df_ratings.shape"
   ]
  },
  {
   "cell_type": "code",
   "execution_count": 915,
   "metadata": {},
   "outputs": [
    {
     "name": "stdout",
     "output_type": "stream",
     "text": [
      "9742\n"
     ]
    }
   ],
   "source": [
    "movie_index = {}\n",
    "for i, m in enumerate(df_movies[\"movieId\"]):\n",
    "    movie_index[m] = i\n",
    "print(len(movie_index))"
   ]
  },
  {
   "cell_type": "code",
   "execution_count": 916,
   "metadata": {},
   "outputs": [
    {
     "name": "stdout",
     "output_type": "stream",
     "text": [
      "      movieId                                title  genres\n",
      "9741   193609  Andrew Dice Clay: Dice Rules (1991)  Comedy\n",
      "1629\n"
     ]
    }
   ],
   "source": [
    "# Which movie Ids not in ratings?\n",
    "# df_movies.join(df_ratings, on=\"movieId\", how=\"left\", lsuffix='_left', rsuffix='_right')\n",
    "c = 0 \n",
    "ans = []\n",
    "for m in df_movies[\"movieId\"]:\n",
    "    if m not in df_ratings[\"movieId\"]:\n",
    "        if m not in ans:\n",
    "            c = c+1\n",
    "            ans.append(m)\n",
    "        \n",
    "print(df_movies.loc[df_movies[\"movieId\"]==m])\n",
    "print(c)"
   ]
  },
  {
   "cell_type": "code",
   "execution_count": 917,
   "metadata": {},
   "outputs": [
    {
     "data": {
      "text/plain": [
       "9742"
      ]
     },
     "execution_count": 917,
     "metadata": {},
     "output_type": "execute_result"
    }
   ],
   "source": [
    "all_movies = df_movies[\"movieId\"].unique()\n",
    "len(all_movies)"
   ]
  },
  {
   "cell_type": "code",
   "execution_count": 918,
   "metadata": {},
   "outputs": [],
   "source": [
    "all_users = df_ratings[\"userId\"].unique()"
   ]
  },
  {
   "cell_type": "code",
   "execution_count": 919,
   "metadata": {},
   "outputs": [
    {
     "data": {
      "text/plain": [
       "610"
      ]
     },
     "execution_count": 919,
     "metadata": {},
     "output_type": "execute_result"
    }
   ],
   "source": [
    "len(df_ratings[\"userId\"].unique())"
   ]
  },
  {
   "cell_type": "markdown",
   "metadata": {},
   "source": [
    "### Build a user movie matrix \n",
    "Each row corresponds to user and each column represents movie. Every cell corresponds to rating given by a user for a movie."
   ]
  },
  {
   "cell_type": "code",
   "execution_count": 920,
   "metadata": {},
   "outputs": [
    {
     "name": "stdout",
     "output_type": "stream",
     "text": [
      "The shape of matrix is 610 x 9742\n"
     ]
    }
   ],
   "source": [
    "user_movie_matrix = []\n",
    "for user_id in all_users:\n",
    "    user_vector = [0 for m in all_movies]\n",
    "    user_df = df_ratings.loc[df_ratings[\"userId\"]==user_id]\n",
    "    for _, row in user_df.iterrows():\n",
    "        user_vector[movie_index[row[\"movieId\"]]] = row[\"rating\"]\n",
    "    user_movie_matrix.append(user_vector)\n",
    "\n",
    "print(\"The shape of matrix is {} x {}\".format(len(user_movie_matrix), len(user_movie_matrix[0])))\n",
    "# for user in all_users:\n",
    "    "
   ]
  },
  {
   "cell_type": "code",
   "execution_count": 921,
   "metadata": {},
   "outputs": [
    {
     "name": "stdout",
     "output_type": "stream",
     "text": [
      "[[1.         0.02728287 0.05972026 ... 0.29109737 0.09357193 0.14532081]\n",
      " [0.02728287 1.         0.         ... 0.04621095 0.0275654  0.10242675]\n",
      " [0.05972026 0.         1.         ... 0.02112846 0.         0.03211875]\n",
      " ...\n",
      " [0.29109737 0.04621095 0.02112846 ... 1.         0.12199271 0.32205486]\n",
      " [0.09357193 0.0275654  0.         ... 0.12199271 1.         0.05322546]\n",
      " [0.14532081 0.10242675 0.03211875 ... 0.32205486 0.05322546 1.        ]] (610, 610)\n"
     ]
    }
   ],
   "source": [
    "from sklearn.metrics.pairwise import cosine_similarity\n",
    "cosine_user_matrix = cosine_similarity(user_movie_matrix)\n",
    "print(cosine_user_matrix, cosine_user_matrix.shape)"
   ]
  },
  {
   "cell_type": "code",
   "execution_count": 922,
   "metadata": {},
   "outputs": [
    {
     "data": {
      "text/plain": [
       "['Toy Story (1995)', 'Assassins (1995)']"
      ]
     },
     "execution_count": 922,
     "metadata": {},
     "output_type": "execute_result"
    }
   ],
   "source": [
    "df_movies[df_movies[\"movieId\"].isin([1,23, 123124])][\"title\"].tolist()"
   ]
  },
  {
   "cell_type": "markdown",
   "metadata": {},
   "source": [
    "### Collaborative Filtering for user"
   ]
  },
  {
   "cell_type": "code",
   "execution_count": 979,
   "metadata": {},
   "outputs": [],
   "source": [
    "def cf_recommender_for_user(user_id, cosine_user_matrix=cosine_user_matrix):\n",
    "    liked_movie_ids = user_liked_movies[user_id]\n",
    "    #df[df['A'].isin([3, 6])]\n",
    "    print(\"Some movies liked by this user\", df_movies[df_movies[\"movieId\"].isin(liked_movie_ids)][\"title\"].tolist())\n",
    "    idx = list(all_users).index(user_id)\n",
    "    print(idx)\n",
    "    cosine_sims_for_this_user = np.copy(cosine_user_matrix[idx]) \n",
    "    # Top 5 most similar users\n",
    "    similar_users = cosine_sims_for_this_user.argsort()[::-1][:10]\n",
    "    print(\"best users to recommend\", similar_users, np.sort(cosine_sims_for_this_user)[::-1][:5])\n",
    "    for u in similar_users:\n",
    "        if u!=user_id:\n",
    "            movies_to_recommend = user_liked_movies[u]\n",
    "            print(movies_to_recommend)\n",
    "            for m in movies_to_recommend[:5]:\n",
    "                if m not in liked_movie_ids:\n",
    "                    print(\"We recommend {} with genres {}\".format(df_movies.loc[df_movies[\"movieId\"]==m, \"title\"].tolist()[0], \n",
    "                                                              df_movies.loc[df_movies[\"movieId\"]==m][\"genres\"].tolist()[0]))\n"
   ]
  },
  {
   "cell_type": "code",
   "execution_count": 929,
   "metadata": {},
   "outputs": [
    {
     "name": "stdout",
     "output_type": "stream",
     "text": [
      "Some movies liked by this user ['Troy (2004)', 'Notebook, The (2004)', 'First Daughter (2004)', 'Batman Begins (2005)', 'Casino Royale (2006)', 'Holiday, The (2006)', 'Education, An (2009)', 'Despicable Me (2010)', \"King's Speech, The (2010)\", 'Dark Knight Rises, The (2012)', 'Intouchables (2011)', 'Skyfall (2012)', 'Spectre (2015)', 'The Intern (2015)']\n",
      "9\n",
      "best users to recommend [  9 158 142 562 176 188 508 490 465  67] [1.         0.28826463 0.27390192 0.26435889 0.24630531]\n",
      "[923, 1198, 1270, 2300, 4993, 5481, 5902, 5952]\n",
      "We recommend Citizen Kane (1941) with genres Drama|Mystery\n",
      "We recommend Raiders of the Lost Ark (Indiana Jones and the Raiders of the Lost Ark) (1981) with genres Action|Adventure\n",
      "We recommend Back to the Future (1985) with genres Adventure|Comedy|Sci-Fi\n",
      "We recommend Producers, The (1968) with genres Comedy\n",
      "We recommend Lord of the Rings: The Fellowship of the Ring, The (2001) with genres Adventure|Fantasy\n",
      "[2490]\n",
      "We recommend Payback (1999) with genres Action|Thriller\n",
      "[50, 150, 161, 296, 527, 588, 593]\n",
      "We recommend Usual Suspects, The (1995) with genres Crime|Mystery|Thriller\n",
      "We recommend Apollo 13 (1995) with genres Adventure|Drama|IMAX\n",
      "We recommend Crimson Tide (1995) with genres Drama|Thriller|War\n",
      "We recommend Pulp Fiction (1994) with genres Comedy|Crime|Drama|Thriller\n",
      "We recommend Schindler's List (1993) with genres Drama|War\n",
      "[296, 318, 356, 364, 593, 1197, 1240, 1246, 1259, 1275, 1307, 1347, 1682, 1704, 1784, 1961, 1968, 1982, 2000, 2005, 2232, 2248, 2420, 2485, 2571, 2858, 2918, 3949, 4135, 4306, 4545, 4823, 4995, 5294, 5810, 6870, 7022, 44974, 56757, 58047, 61240, 63082, 71899, 88163, 93840]\n",
      "We recommend Pulp Fiction (1994) with genres Comedy|Crime|Drama|Thriller\n",
      "We recommend Shawshank Redemption, The (1994) with genres Crime|Drama\n",
      "We recommend Forrest Gump (1994) with genres Comedy|Drama|Romance|War\n",
      "We recommend Lion King, The (1994) with genres Adventure|Animation|Children|Drama|Musical|IMAX\n",
      "We recommend Silence of the Lambs, The (1991) with genres Crime|Horror|Thriller\n",
      "[10, 47, 110, 168, 318, 329, 380, 457, 471, 553, 589, 593, 733]\n",
      "We recommend GoldenEye (1995) with genres Action|Adventure|Thriller\n",
      "We recommend Seven (a.k.a. Se7en) (1995) with genres Mystery|Thriller\n",
      "We recommend Braveheart (1995) with genres Action|Drama|War\n",
      "We recommend First Knight (1995) with genres Action|Drama|Romance\n",
      "We recommend Shawshank Redemption, The (1994) with genres Crime|Drama\n",
      "[356, 898, 899, 904, 906, 913, 914, 919, 1028, 1035, 1212, 1282, 1947, 1951, 2206, 2302, 2312, 2359, 2436, 2565, 2918, 2941, 3097, 3341, 3469, 5060]\n",
      "We recommend Forrest Gump (1994) with genres Comedy|Drama|Romance|War\n",
      "We recommend Philadelphia Story, The (1940) with genres Comedy|Drama|Romance\n",
      "We recommend Singin' in the Rain (1952) with genres Comedy|Musical|Romance\n",
      "We recommend Rear Window (1954) with genres Mystery|Thriller\n",
      "We recommend Gaslight (1944) with genres Drama|Thriller\n",
      "[]\n",
      "[]\n",
      "[111, 356, 527, 541, 593, 608, 750, 904, 908, 912, 924, 930, 933, 969, 1089, 1183, 1200, 1208, 1214, 1218, 1219, 1252, 1267, 1269, 1272, 1299, 1344, 1617, 1834, 2028, 2067, 2762, 3334, 3448, 3551, 3671, 3723, 5060]\n",
      "We recommend Taxi Driver (1976) with genres Crime|Drama|Thriller\n",
      "We recommend Forrest Gump (1994) with genres Comedy|Drama|Romance|War\n",
      "We recommend Schindler's List (1993) with genres Drama|War\n",
      "We recommend Blade Runner (1982) with genres Action|Sci-Fi|Thriller\n",
      "We recommend Silence of the Lambs, The (1991) with genres Crime|Horror|Thriller\n",
      "[293, 1527, 8604, 27193]\n",
      "We recommend Léon: The Professional (a.k.a. The Professional) (Léon) (1994) with genres Action|Crime|Drama|Thriller\n",
      "We recommend Fifth Element, The (1997) with genres Action|Adventure|Comedy|Sci-Fi\n",
      "We recommend Taxi (1998) with genres Action|Comedy\n",
      "We recommend Taxi 2 (2000) with genres Action|Comedy\n"
     ]
    }
   ],
   "source": [
    "cf_recommender_for_user(10)"
   ]
  },
  {
   "cell_type": "markdown",
   "metadata": {},
   "source": [
    "### Summary of Content vs Collaborative Filtering\n",
    "User user CF is much better overall - somehow from the look of it it seems it is able to capture freshness in an amazing way, also we were able to use quality of judgment of others by recommending movies that actually have good ratings by other similar users. In Content Recommendation case, we were just recommending similar items based on genre without taking rating in to account.\n"
   ]
  },
  {
   "cell_type": "markdown",
   "metadata": {},
   "source": [
    "### Next, try matrix factorization methods\n",
    "First try NMF and then SVD, look at results and see if they make sense."
   ]
  },
  {
   "cell_type": "code",
   "execution_count": 991,
   "metadata": {},
   "outputs": [],
   "source": [
    "from sklearn.decomposition import NMF\n",
    "model = NMF(n_components=50, init='random', random_state=0)\n",
    "W = model.fit_transform(user_movie_matrix)\n",
    "H = model.components_"
   ]
  },
  {
   "cell_type": "code",
   "execution_count": 992,
   "metadata": {},
   "outputs": [
    {
     "name": "stdout",
     "output_type": "stream",
     "text": [
      "(610, 50)\n"
     ]
    },
    {
     "data": {
      "text/plain": [
       "array([[0.        , 0.        , 0.        , ..., 0.        , 0.        ,\n",
       "        0.        ],\n",
       "       [0.        , 0.        , 0.        , ..., 0.        , 0.        ,\n",
       "        0.        ],\n",
       "       [0.        , 0.        , 0.        , ..., 0.        , 0.        ,\n",
       "        0.        ],\n",
       "       ...,\n",
       "       [0.02999298, 0.        , 0.        , ..., 0.        , 0.28837545,\n",
       "        0.        ],\n",
       "       [0.        , 0.        , 0.        , ..., 0.        , 0.        ,\n",
       "        0.        ],\n",
       "       [0.        , 0.        , 0.        , ..., 0.        , 0.        ,\n",
       "        0.        ]])"
      ]
     },
     "execution_count": 992,
     "metadata": {},
     "output_type": "execute_result"
    }
   ],
   "source": [
    "print(W.shape)\n",
    "W"
   ]
  },
  {
   "cell_type": "code",
   "execution_count": 993,
   "metadata": {},
   "outputs": [
    {
     "name": "stdout",
     "output_type": "stream",
     "text": [
      "(9742, 50)\n"
     ]
    },
    {
     "data": {
      "text/plain": [
       "array([[0.21860701, 0.09536652, 0.29798082, ..., 0.84760486, 0.23298279,\n",
       "        0.        ],\n",
       "       [0.2415129 , 0.07280174, 0.15206926, ..., 0.        , 0.23960137,\n",
       "        0.54777911],\n",
       "       [0.16771816, 0.10291515, 0.27788272, ..., 0.        , 0.00122041,\n",
       "        0.        ],\n",
       "       ...,\n",
       "       [0.        , 0.        , 0.        , ..., 0.        , 0.        ,\n",
       "        0.        ],\n",
       "       [0.        , 0.        , 0.        , ..., 0.        , 0.        ,\n",
       "        0.        ],\n",
       "       [0.        , 0.        , 0.        , ..., 0.        , 0.        ,\n",
       "        0.        ]])"
      ]
     },
     "execution_count": 993,
     "metadata": {},
     "output_type": "execute_result"
    }
   ],
   "source": [
    "print(H.T.shape)\n",
    "H.T"
   ]
  },
  {
   "cell_type": "code",
   "execution_count": 994,
   "metadata": {},
   "outputs": [
    {
     "data": {
      "text/plain": [
       "(50,)"
      ]
     },
     "execution_count": 994,
     "metadata": {},
     "output_type": "execute_result"
    }
   ],
   "source": [
    "H.T[0].shape"
   ]
  },
  {
   "cell_type": "code",
   "execution_count": 995,
   "metadata": {},
   "outputs": [
    {
     "name": "stdout",
     "output_type": "stream",
     "text": [
      "[[1.00000000e+00 2.15372533e-02 6.74456305e-01 ... 1.39227663e-01\n",
      "  2.95907548e-03 2.23155834e-05]\n",
      " [2.15372533e-02 1.00000000e+00 0.00000000e+00 ... 1.02461000e-01\n",
      "  6.60409085e-03 0.00000000e+00]\n",
      " [6.74456305e-01 0.00000000e+00 1.00000000e+00 ... 1.92349823e-01\n",
      "  0.00000000e+00 1.66114955e-01]\n",
      " ...\n",
      " [1.39227663e-01 1.02461000e-01 1.92349823e-01 ... 1.00000000e+00\n",
      "  3.07839424e-03 1.96994099e-06]\n",
      " [2.95907548e-03 6.60409085e-03 0.00000000e+00 ... 3.07839424e-03\n",
      "  1.00000000e+00 1.46222986e-04]\n",
      " [2.23155834e-05 0.00000000e+00 1.66114955e-01 ... 1.96994099e-06\n",
      "  1.46222986e-04 1.00000000e+00]] (610, 610)\n"
     ]
    }
   ],
   "source": [
    "from sklearn.metrics.pairwise import cosine_similarity\n",
    "cosine_user_matrix_nmf = cosine_similarity(W)\n",
    "print(cosine_user_matrix_nmf, cosine_user_matrix_nmf.shape)"
   ]
  },
  {
   "cell_type": "code",
   "execution_count": 996,
   "metadata": {},
   "outputs": [
    {
     "name": "stdout",
     "output_type": "stream",
     "text": [
      "[[1.         0.02728287 0.05972026 ... 0.29109737 0.09357193 0.14532081]\n",
      " [0.02728287 1.         0.         ... 0.04621095 0.0275654  0.10242675]\n",
      " [0.05972026 0.         1.         ... 0.02112846 0.         0.03211875]\n",
      " ...\n",
      " [0.29109737 0.04621095 0.02112846 ... 1.         0.12199271 0.32205486]\n",
      " [0.09357193 0.0275654  0.         ... 0.12199271 1.         0.05322546]\n",
      " [0.14532081 0.10242675 0.03211875 ... 0.32205486 0.05322546 1.        ]] (610, 610)\n"
     ]
    }
   ],
   "source": [
    "print(cosine_user_matrix, cosine_user_matrix.shape)"
   ]
  },
  {
   "cell_type": "markdown",
   "metadata": {},
   "source": [
    "Nice resource to learn about details of SVD http://nicolas-hug.com/blog/matrix_facto_3 - creator of Suprise package \n",
    "\n",
    "SVD Implementation below from From https://beckernick.github.io/matrix-factorization-recommender/\n"
   ]
  },
  {
   "cell_type": "code",
   "execution_count": 967,
   "metadata": {},
   "outputs": [],
   "source": [
    "import numpy as np\n",
    "# R = cosine_user_matrix.as_matrix()\n",
    "user_ratings_mean = np.mean(user_movie_matrix, axis = 1)\n",
    "user_movie_matrix_demeaned = user_movie_matrix - user_ratings_mean.reshape(-1, 1)"
   ]
  },
  {
   "cell_type": "code",
   "execution_count": 968,
   "metadata": {},
   "outputs": [
    {
     "name": "stdout",
     "output_type": "stream",
     "text": [
      "[[ 3.89601724 -0.10398276  3.89601724 ... -0.10398276 -0.10398276\n",
      "  -0.10398276]\n",
      " [-0.01175323 -0.01175323 -0.01175323 ... -0.01175323 -0.01175323\n",
      "  -0.01175323]\n",
      " [-0.00975159 -0.00975159 -0.00975159 ... -0.00975159 -0.00975159\n",
      "  -0.00975159]\n",
      " ...\n",
      " [ 2.23265243  1.73265243  1.73265243 ... -0.26734757 -0.26734757\n",
      "  -0.26734757]\n",
      " [ 2.98757955 -0.01242045 -0.01242045 ... -0.01242045 -0.01242045\n",
      "  -0.01242045]\n",
      " [ 4.50703141 -0.49296859 -0.49296859 ... -0.49296859 -0.49296859\n",
      "  -0.49296859]] (610, 9742)\n"
     ]
    }
   ],
   "source": [
    "print(user_movie_matrix_demeaned, user_movie_matrix_demeaned.shape)"
   ]
  },
  {
   "cell_type": "code",
   "execution_count": 973,
   "metadata": {},
   "outputs": [],
   "source": [
    "# https://beckernick.github.io/matrix-factorization-recommender/\n",
    "from scipy.sparse.linalg import svds\n",
    "U, sigma, Vt = svds(user_movie_matrix_demeaned, k = 50)"
   ]
  },
  {
   "cell_type": "code",
   "execution_count": 974,
   "metadata": {},
   "outputs": [
    {
     "name": "stdout",
     "output_type": "stream",
     "text": [
      "(610, 50) (50,) (50, 9742)\n"
     ]
    }
   ],
   "source": [
    "print(U.shape, sigma.shape, Vt.shape)"
   ]
  },
  {
   "cell_type": "code",
   "execution_count": 975,
   "metadata": {},
   "outputs": [],
   "source": [
    "sigma = np.diag(sigma)"
   ]
  },
  {
   "cell_type": "code",
   "execution_count": 976,
   "metadata": {},
   "outputs": [
    {
     "name": "stdout",
     "output_type": "stream",
     "text": [
      "(610, 50) (50, 50) (50, 9742)\n"
     ]
    }
   ],
   "source": [
    "print(U.shape, sigma.shape, Vt.shape)"
   ]
  },
  {
   "cell_type": "code",
   "execution_count": 977,
   "metadata": {},
   "outputs": [
    {
     "name": "stdout",
     "output_type": "stream",
     "text": [
      "[[ 1.         -0.18804202  0.10409503 ... -0.09132694 -0.01344317\n",
      "  -0.04456514]\n",
      " [-0.18804202  1.          0.03868282 ...  0.10333583 -0.0309986\n",
      "  -0.08058716]\n",
      " [ 0.10409503  0.03868282  1.         ...  0.1693497  -0.17250777\n",
      "   0.14641208]\n",
      " ...\n",
      " [-0.09132694  0.10333583  0.1693497  ...  1.         -0.14915979\n",
      "   0.00459655]\n",
      " [-0.01344317 -0.0309986  -0.17250777 ... -0.14915979  1.\n",
      "  -0.01122566]\n",
      " [-0.04456514 -0.08058716  0.14641208 ...  0.00459655 -0.01122566\n",
      "   1.        ]] (610, 610)\n"
     ]
    }
   ],
   "source": [
    "from sklearn.metrics.pairwise import cosine_similarity\n",
    "cosine_user_matrix_svd = cosine_similarity(U)\n",
    "print(cosine_user_matrix_svd, cosine_user_matrix_svd.shape)"
   ]
  },
  {
   "cell_type": "code",
   "execution_count": 980,
   "metadata": {},
   "outputs": [
    {
     "name": "stdout",
     "output_type": "stream",
     "text": [
      "Some movies liked by this user ['Troy (2004)', 'Notebook, The (2004)', 'First Daughter (2004)', 'Batman Begins (2005)', 'Casino Royale (2006)', 'Holiday, The (2006)', 'Education, An (2009)', 'Despicable Me (2010)', \"King's Speech, The (2010)\", 'Dark Knight Rises, The (2012)', 'Intouchables (2011)', 'Skyfall (2012)', 'Spectre (2015)', 'The Intern (2015)']\n",
      "9\n",
      "best users to recommend [  9 142 562 577 158 597 489 465 147 307] [1.         0.68104754 0.62562493 0.52782395 0.52728088]\n",
      "[923, 1198, 1270, 2300, 4993, 5481, 5902, 5952]\n",
      "We recommend Citizen Kane (1941) with genres Drama|Mystery\n",
      "We recommend Raiders of the Lost Ark (Indiana Jones and the Raiders of the Lost Ark) (1981) with genres Action|Adventure\n",
      "We recommend Back to the Future (1985) with genres Adventure|Comedy|Sci-Fi\n",
      "We recommend Producers, The (1968) with genres Comedy\n",
      "We recommend Lord of the Rings: The Fellowship of the Ring, The (2001) with genres Adventure|Fantasy\n",
      "[50, 150, 161, 296, 527, 588, 593]\n",
      "We recommend Usual Suspects, The (1995) with genres Crime|Mystery|Thriller\n",
      "We recommend Apollo 13 (1995) with genres Adventure|Drama|IMAX\n",
      "We recommend Crimson Tide (1995) with genres Drama|Thriller|War\n",
      "We recommend Pulp Fiction (1994) with genres Comedy|Crime|Drama|Thriller\n",
      "We recommend Schindler's List (1993) with genres Drama|War\n",
      "[296, 318, 356, 364, 593, 1197, 1240, 1246, 1259, 1275, 1307, 1347, 1682, 1704, 1784, 1961, 1968, 1982, 2000, 2005, 2232, 2248, 2420, 2485, 2571, 2858, 2918, 3949, 4135, 4306, 4545, 4823, 4995, 5294, 5810, 6870, 7022, 44974, 56757, 58047, 61240, 63082, 71899, 88163, 93840]\n",
      "We recommend Pulp Fiction (1994) with genres Comedy|Crime|Drama|Thriller\n",
      "We recommend Shawshank Redemption, The (1994) with genres Crime|Drama\n",
      "We recommend Forrest Gump (1994) with genres Comedy|Drama|Romance|War\n",
      "We recommend Lion King, The (1994) with genres Adventure|Animation|Children|Drama|Musical|IMAX\n",
      "We recommend Silence of the Lambs, The (1991) with genres Crime|Horror|Thriller\n",
      "[260, 318, 356, 480, 527, 590, 858, 908, 912, 920, 1231, 1250, 1262, 1270, 1272, 1287, 1387, 1939, 2028, 2094, 2529, 2947, 3035, 3153]\n",
      "We recommend Star Wars: Episode IV - A New Hope (1977) with genres Action|Adventure|Sci-Fi\n",
      "We recommend Shawshank Redemption, The (1994) with genres Crime|Drama\n",
      "We recommend Forrest Gump (1994) with genres Comedy|Drama|Romance|War\n",
      "We recommend Jurassic Park (1993) with genres Action|Adventure|Sci-Fi|Thriller\n",
      "We recommend Schindler's List (1993) with genres Drama|War\n",
      "[2490]\n",
      "We recommend Payback (1999) with genres Action|Thriller\n",
      "[21, 45, 50, 101, 104, 110, 232, 246, 260, 281, 322, 348, 356, 357, 441, 457, 474, 480, 493, 555, 589, 778, 858, 904, 922, 933, 953, 1060, 1073, 1079, 1084, 1086, 1090, 1097, 1101, 1124, 1129, 1148, 1171, 1172, 1184, 1186, 1193, 1196, 1197, 1198, 1200, 1204, 1206, 1207, 1208, 1210, 1214, 1221, 1222, 1225, 1228, 1230, 1231, 1234, 1235, 1244, 1246, 1247, 1252, 1257, 1259, 1263, 1265, 1267, 1270, 1272, 1278, 1285, 1288, 1291, 1292, 1296, 1299, 1302, 1304, 1307, 1345, 1350, 1380, 1387, 1394, 1449, 1500, 1517, 1518, 1610, 1617, 1635, 1663, 1673, 1674, 1701, 1704, 1719, 1777, 1912, 1923, 1954, 1955, 1956, 1958, 1961, 1968, 1982, 1997, 2000, 2028, 2064, 2109, 2110, 2114, 2144, 2186, 2194, 2240, 2241, 2243, 2248, 2259, 2288, 2289, 2290, 2302, 2352, 2366, 2367, 2371, 2395, 2396, 2403, 2427, 2522, 2529, 2542, 2599, 2683, 2690, 2706, 2716, 2762, 2791, 2795, 2797, 2804, 2819, 2858, 2871, 2915, 2916, 2918, 2921, 2944, 2948, 2949, 2973, 2987, 2991, 3019, 3039, 3040, 3068, 3072, 5060]\n",
      "We recommend Get Shorty (1995) with genres Comedy|Crime|Thriller\n",
      "We recommend To Die For (1995) with genres Comedy|Drama|Thriller\n",
      "We recommend Usual Suspects, The (1995) with genres Crime|Mystery|Thriller\n",
      "We recommend Bottle Rocket (1996) with genres Adventure|Comedy|Crime|Romance\n",
      "We recommend Happy Gilmore (1996) with genres Comedy\n",
      "[902, 914, 915, 918, 971, 1096, 1172, 1307, 1339, 3000, 4246, 4973, 6874, 7438, 8533, 27803, 48394, 81591, 89118, 89864]\n",
      "We recommend Breakfast at Tiffany's (1961) with genres Drama|Romance\n",
      "We recommend My Fair Lady (1964) with genres Comedy|Drama|Musical|Romance\n",
      "We recommend Sabrina (1954) with genres Comedy|Romance\n",
      "We recommend Meet Me in St. Louis (1944) with genres Musical\n",
      "We recommend Cat on a Hot Tin Roof (1958) with genres Drama\n",
      "[111, 356, 527, 541, 593, 608, 750, 904, 908, 912, 924, 930, 933, 969, 1089, 1183, 1200, 1208, 1214, 1218, 1219, 1252, 1267, 1269, 1272, 1299, 1344, 1617, 1834, 2028, 2067, 2762, 3334, 3448, 3551, 3671, 3723, 5060]\n",
      "We recommend Taxi Driver (1976) with genres Crime|Drama|Thriller\n",
      "We recommend Forrest Gump (1994) with genres Comedy|Drama|Romance|War\n",
      "We recommend Schindler's List (1993) with genres Drama|War\n",
      "We recommend Blade Runner (1982) with genres Action|Sci-Fi|Thriller\n",
      "We recommend Silence of the Lambs, The (1991) with genres Crime|Horror|Thriller\n",
      "[225, 1376, 1639]\n",
      "We recommend Disclosure (1994) with genres Drama|Thriller\n",
      "We recommend Star Trek IV: The Voyage Home (1986) with genres Adventure|Comedy|Sci-Fi\n",
      "We recommend Chasing Amy (1997) with genres Comedy|Drama|Romance\n",
      "[663, 919, 1031, 1215, 2329, 3535, 3897, 4239, 4878, 7361, 8874, 51931, 59315, 60069, 68954, 69122]\n",
      "We recommend Kids in the Hall: Brain Candy (1996) with genres Comedy\n",
      "We recommend Wizard of Oz, The (1939) with genres Adventure|Children|Fantasy|Musical\n",
      "We recommend Bedknobs and Broomsticks (1971) with genres Adventure|Children|Musical\n",
      "We recommend Army of Darkness (1993) with genres Action|Adventure|Comedy|Fantasy|Horror\n",
      "We recommend American History X (1998) with genres Crime|Drama\n"
     ]
    }
   ],
   "source": [
    "cf_recommender_for_user(10, cosine_user_matrix=cosine_user_matrix_svd)"
   ]
  }
 ],
 "metadata": {
  "kernelspec": {
   "display_name": "Python 3",
   "language": "python",
   "name": "python3"
  },
  "language_info": {
   "codemirror_mode": {
    "name": "ipython",
    "version": 3
   },
   "file_extension": ".py",
   "mimetype": "text/x-python",
   "name": "python",
   "nbconvert_exporter": "python",
   "pygments_lexer": "ipython3",
   "version": "3.6.7"
  }
 },
 "nbformat": 4,
 "nbformat_minor": 2
}
